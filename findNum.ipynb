{
  "nbformat": 4,
  "nbformat_minor": 0,
  "metadata": {
    "colab": {
      "name": "Untitled1.ipynb",
      "provenance": []
    },
    "kernelspec": {
      "name": "python3",
      "display_name": "Python 3"
    }
  },
  "cells": [
    {
      "cell_type": "markdown",
      "metadata": {
        "id": "xccV55JwLe75"
      },
      "source": [
        "https://leetcode.com/explore/learn/card/fun-with-arrays/521/introduction/3240/\r\n"
      ]
    },
    {
      "cell_type": "markdown",
      "metadata": {
        "id": "tEEZdV49Lh2o"
      },
      "source": [
        "Given an integer array nums sorted in non-decreasing order, return an array of the squares of each number sorted in non-decreasing order.\r\n",
        "\r\n",
        " \r\n",
        "\r\n",
        "Example 1:\r\n",
        "\r\n",
        "Input: nums = [-4,-1,0,3,10]\r\n",
        "Output: [0,1,9,16,100]\r\n",
        "Explanation: After squaring, the array becomes [16,1,0,9,100].\r\n",
        "After sorting, it becomes [0,1,9,16,100].\r\n",
        "Example 2:\r\n",
        "\r\n",
        "Input: nums = [-7,-3,2,3,11]\r\n",
        "Output: [4,9,9,49,121]\r\n",
        " \r\n",
        "\r\n",
        "Constraints:\r\n",
        "\r\n",
        "1 <= nums.length <= 104\r\n",
        "-104 <= nums[i] <= 104\r\n",
        "nums is sorted in non-decreasing order.\r\n",
        " \r\n",
        "\r\n",
        "Follow up: Squaring each element and sorting the new array is very trivial, could you find an O(n) solution using a different approach?"
      ]
    },
    {
      "cell_type": "code",
      "metadata": {
        "colab": {
          "base_uri": "https://localhost:8080/"
        },
        "id": "b7_5boj5Lnbn",
        "outputId": "2f0b2ce5-b949-48af-f62d-ff15327870d9"
      },
      "source": [
        "\r\n",
        "class Solution:\r\n",
        "    def sortedSquares(nums) :\r\n",
        "        \r\n",
        "        for i in range(0,len(nums)):\r\n",
        "            nums[i] = nums[i]*nums[i]\r\n",
        "            \r\n",
        "        nums.sort()\r\n",
        "        return nums\r\n",
        "\r\n",
        "\r\n",
        "\r\n",
        "Solution.sortedSquares([-1,3,0,4,10])"
      ],
      "execution_count": 10,
      "outputs": [
        {
          "output_type": "execute_result",
          "data": {
            "text/plain": [
              "[0, 1, 9, 16, 100]"
            ]
          },
          "metadata": {
            "tags": []
          },
          "execution_count": 10
        }
      ]
    },
    {
      "cell_type": "markdown",
      "metadata": {
        "id": "FE_dVbQKMvrA"
      },
      "source": [
        "Given an array nums of integers, return how many of them contain an even number of digits.\r\n",
        " \r\n",
        "\r\n",
        "Example 1:\r\n",
        "\r\n",
        "Input: nums = [12,345,2,6,7896]\r\n",
        "Output: 2\r\n",
        "Explanation: \r\n",
        "12 contains 2 digits (even number of digits). \r\n",
        "345 contains 3 digits (odd number of digits). \r\n",
        "2 contains 1 digit (odd number of digits). \r\n",
        "6 contains 1 digit (odd number of digits). \r\n",
        "7896 contains 4 digits (even number of digits). \r\n",
        "Therefore only 12 and 7896 contain an even number of digits.\r\n",
        "Example 2:\r\n",
        "\r\n",
        "Input: nums = [555,901,482,1771]\r\n",
        "Output: 1 \r\n",
        "Explanation: \r\n",
        "Only 1771 contains an even number of digits.\r\n",
        " \r\n",
        "\r\n",
        "Constraints:\r\n",
        "\r\n",
        "1 <= nums.length <= 500\r\n",
        "1 <= nums[i] <= 10^5"
      ]
    },
    {
      "cell_type": "code",
      "metadata": {
        "colab": {
          "base_uri": "https://localhost:8080/"
        },
        "id": "8OFvfJoxM3mO",
        "outputId": "b91d3b54-0a6e-4614-8c41-f52f7e9c1b0a"
      },
      "source": [
        "class Solution:\r\n",
        "    def findNumbers(nums) -> int:\r\n",
        "        count = 0\r\n",
        "        for i in nums:\r\n",
        "            if len(str(i))%2==0:\r\n",
        "                count = count+1\r\n",
        "        \r\n",
        "        return count\r\n",
        "Solution.findNumbers([12,345,2,6,7896])"
      ],
      "execution_count": 12,
      "outputs": [
        {
          "output_type": "execute_result",
          "data": {
            "text/plain": [
              "2"
            ]
          },
          "metadata": {
            "tags": []
          },
          "execution_count": 12
        }
      ]
    }
  ]
}