{
  "nbformat": 4,
  "nbformat_minor": 0,
  "metadata": {
    "colab": {
      "name": "Untitled2.ipynb",
      "provenance": [],
      "collapsed_sections": []
    },
    "kernelspec": {
      "name": "python3",
      "display_name": "Python 3"
    }
  },
  "cells": [
    {
      "cell_type": "markdown",
      "metadata": {
        "id": "YWFPvEve5zsu"
      },
      "source": [
        "In a string s of lowercase letters, these letters form consecutive groups of the same character.\r\n",
        "\r\n",
        "For example, a string like s = \"abbxxxxzyy\" has the groups \"a\", \"bb\", \"xxxx\", \"z\", and \"yy\".\r\n",
        "\r\n",
        "A group is identified by an interval [start, end], where start and end denote the start and end indices (inclusive) of the group. In the above example, \"xxxx\" has the interval [3,6].\r\n",
        "\r\n",
        "A group is considered large if it has 3 or more characters.\r\n",
        "\r\n",
        "Return the intervals of every large group sorted in increasing order by start index.\r\n",
        "\r\n",
        " \r\n",
        "\r\n",
        "Example 1:\r\n",
        "\r\n",
        "Input: s = \"abbxxxxzzy\"\r\n",
        "Output: [[3,6]]\r\n",
        "Explanation: \"xxxx\" is the only large group with start index 3 and end index 6.\r\n",
        "Example 2:\r\n",
        "\r\n",
        "Input: s = \"abc\"\r\n",
        "Output: []\r\n",
        "Explanation: We have groups \"a\", \"b\", and \"c\", none of which are large groups.\r\n",
        "Example 3:\r\n",
        "\r\n",
        "Input: s = \"abcdddeeeeaabbbcd\"\r\n",
        "Output: [[3,5],[6,9],[12,14]]\r\n",
        "Explanation: The large groups are \"ddd\", \"eeee\", and \"bbb\".\r\n",
        "Example 4:\r\n",
        "\r\n",
        "Input: s = \"aba\"\r\n",
        "Output: []\r\n",
        " \r\n",
        "\r\n",
        "Constraints:\r\n",
        "\r\n",
        "1 <= s.length <= 1000\r\n",
        "s contains lower-case English letters only."
      ]
    },
    {
      "cell_type": "code",
      "metadata": {
        "colab": {
          "base_uri": "https://localhost:8080/"
        },
        "id": "w-1cJDA7CtNb",
        "outputId": "ebc05191-5173-4086-c715-2825e361646a"
      },
      "source": [
        "class Solution:\r\n",
        "    def largeGroupPositions(self, s: str) :\r\n",
        "        ans = []\r\n",
        "        start = 0\r\n",
        "        end = 0\r\n",
        "        count = 0\r\n",
        "        i = 0\r\n",
        "        j = 0\r\n",
        "        for j in range(len(s)):\r\n",
        "            if j == len(s) - 1 or s[j] != s[j+1]:\r\n",
        "                if j - i + 1 >=3:\r\n",
        "                    ans.append([i,j])\r\n",
        "                i=j+1\r\n",
        "        return ans\r\n",
        "\r\n",
        "s = Solution()\r\n",
        "print(s.largeGroupPositions(\"abbxxxxzzy\"))"
      ],
      "execution_count": 2,
      "outputs": [
        {
          "output_type": "stream",
          "text": [
            "[[3, 6]]\n"
          ],
          "name": "stdout"
        }
      ]
    }
  ]
}