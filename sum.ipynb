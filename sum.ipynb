{
  "nbformat": 4,
  "nbformat_minor": 0,
  "metadata": {
    "colab": {
      "name": "Untitled2.ipynb",
      "provenance": [],
      "collapsed_sections": []
    },
    "kernelspec": {
      "name": "python3",
      "display_name": "Python 3"
    }
  },
  "cells": [
    {
      "cell_type": "markdown",
      "metadata": {
        "id": "Ip4GJyrk50j_"
      },
      "source": [
        "Calculate the sum of two integers a and b, but you are not allowed to use the operator + and -.\r\n",
        "\r\n",
        "Example 1:\r\n",
        "\r\n",
        "Input: a = 1, b = 2\r\n",
        "Output: 3\r\n",
        "Example 2:\r\n",
        "\r\n",
        "Input: a = -2, b = 3\r\n",
        "Output: 1"
      ]
    },
    {
      "cell_type": "code",
      "metadata": {
        "colab": {
          "base_uri": "https://localhost:8080/"
        },
        "id": "VxQV8aNx5yzW",
        "outputId": "4c18de88-31e3-4cdb-83be-6f3cb2fd77a9"
      },
      "source": [
        "def my_max(a: int, b:int) -> (int, int):\r\n",
        "    a = abs(a)\r\n",
        "    b = abs(b)\r\n",
        "\r\n",
        "    if a > b:\r\n",
        "        return (a,b)\r\n",
        "    return(b,a)\r\n",
        "\r\n",
        "class Solution:\r\n",
        "    def getSum(self, a: int, b: int) -> int:\r\n",
        "        \r\n",
        "        l = []\r\n",
        "        l2 = []\r\n",
        "        \r\n",
        "        if a >= 0 and b >= 0:\r\n",
        "            \r\n",
        "            for i in range(a):\r\n",
        "                l.append(1)\r\n",
        "                \r\n",
        "            for i in range(b):\r\n",
        "                l.append(1)\r\n",
        "                \r\n",
        "            return l.count(1)\r\n",
        "            \r\n",
        "        if a < 0 and b < 0:\r\n",
        "            \r\n",
        "            for i in range(abs(a)):\r\n",
        "                l.append(1)\r\n",
        "                \r\n",
        "            for i in range(abs(b)):\r\n",
        "                l.append(1)\r\n",
        "                \r\n",
        "            return l.count(1) * -1\r\n",
        "        \r\n",
        "        if a < 0 and b > 0:\r\n",
        "            \r\n",
        "            mmax, mmin = my_max(a, b)\r\n",
        "            \r\n",
        "            for i in range(mmin, mmax):\r\n",
        "                l.append(1)\r\n",
        "                \r\n",
        "            return l.count(1)\r\n",
        "                \r\n",
        "        else:\r\n",
        "            a, b = b, a\r\n",
        "            \r\n",
        "            mmax, mmin = my_max(a, b)\r\n",
        "            \r\n",
        "            for i in range(mmin, mmax):\r\n",
        "                l.append(1)\r\n",
        "                \r\n",
        "            return l.count(1) * -1\r\n",
        "    s = Solution()\r\n",
        "    print(s.getSum(3,4))"
      ],
      "execution_count": 23,
      "outputs": [
        {
          "output_type": "stream",
          "text": [
            "7\n"
          ],
          "name": "stdout"
        }
      ]
    },
    {
      "cell_type": "markdown",
      "metadata": {
        "id": "YWFPvEve5zsu"
      },
      "source": [
        ""
      ]
    }
  ]
}