{
  "nbformat": 4,
  "nbformat_minor": 0,
  "metadata": {
    "colab": {
      "name": "Untitled2.ipynb",
      "provenance": [],
      "collapsed_sections": []
    },
    "kernelspec": {
      "name": "python3",
      "display_name": "Python 3"
    }
  },
  "cells": [
    {
      "cell_type": "markdown",
      "metadata": {
        "id": "YWFPvEve5zsu"
      },
      "source": [
        "Given a positive integer, return its corresponding column title as appear in an Excel sheet.\r\n",
        "\r\n",
        "For example:\r\n",
        "\r\n",
        "    1 -> A\r\n",
        "    2 -> B\r\n",
        "    3 -> C\r\n",
        "    ...\r\n",
        "    26 -> Z\r\n",
        "    27 -> AA\r\n",
        "    28 -> AB \r\n",
        "    ...\r\n",
        "Example 1:\r\n",
        "\r\n",
        "Input: 1\r\n",
        "Output: \"A\"\r\n",
        "Example 2:\r\n",
        "\r\n",
        "Input: 28\r\n",
        "Output: \"AB\"\r\n",
        "Example 3:\r\n",
        "\r\n",
        "Input: 701\r\n",
        "Output: \"ZY\""
      ]
    },
    {
      "cell_type": "code",
      "metadata": {
        "colab": {
          "base_uri": "https://localhost:8080/"
        },
        "id": "RskFm1tOA03r",
        "outputId": "53369540-795e-4a23-a8e2-cab6df37694a"
      },
      "source": [
        "import string\r\n",
        "\r\n",
        "excel_column = string.ascii_uppercase\r\n",
        "\r\n",
        "class Solution:\r\n",
        "    def convertToTitle(self, n: int) -> str:\r\n",
        "        finalStr = \"\"\r\n",
        "\r\n",
        "        while n > 0:\r\n",
        "            n -= 1\r\n",
        "\r\n",
        "            n, i = divmod(n, 26)\r\n",
        "            finalStr += excel_column[i]\r\n",
        "\r\n",
        "        return finalStr[::-1]\r\n",
        "\r\n",
        "s = Solution()\r\n",
        "print(s.convertToTitle(67))"
      ],
      "execution_count": 2,
      "outputs": [
        {
          "output_type": "stream",
          "text": [
            "BO\n"
          ],
          "name": "stdout"
        }
      ]
    }
  ]
}