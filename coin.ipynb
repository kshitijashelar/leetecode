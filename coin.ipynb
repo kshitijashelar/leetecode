{
  "nbformat": 4,
  "nbformat_minor": 0,
  "metadata": {
    "colab": {
      "name": "Untitled2.ipynb",
      "provenance": [],
      "collapsed_sections": []
    },
    "kernelspec": {
      "name": "python3",
      "display_name": "Python 3"
    }
  },
  "cells": [
    {
      "cell_type": "markdown",
      "metadata": {
        "id": "Ip4GJyrk50j_"
      },
      "source": [
        "You have a total of n coins that you want to form in a staircase shape, where every k-th row must have exactly k coins.\r\n",
        "\r\n",
        "Given n, find the total number of full staircase rows that can be formed.\r\n",
        "\r\n",
        "n is a non-negative integer and fits within the range of a 32-bit signed integer.\r\n",
        "\r\n",
        "Example 1:\r\n",
        "\r\n",
        "n = 5\r\n",
        "\r\n",
        "The coins can form the following rows:\r\n",
        "¤\r\n",
        "¤ ¤\r\n",
        "¤ ¤\r\n",
        "\r\n",
        "Because the 3rd row is incomplete, we return 2.\r\n",
        "Example 2:\r\n",
        "\r\n",
        "n = 8\r\n",
        "\r\n",
        "The coins can form the following rows:\r\n",
        "¤\r\n",
        "¤ ¤\r\n",
        "¤ ¤ ¤\r\n",
        "¤ ¤\r\n",
        "\r\n",
        "Because the 4th row is incomplete, we return 3.\r\n"
      ]
    },
    {
      "cell_type": "code",
      "metadata": {
        "colab": {
          "base_uri": "https://localhost:8080/",
          "height": 334
        },
        "id": "VxQV8aNx5yzW",
        "outputId": "31d3eedb-e174-44aa-cd3e-1113fa5cf59e"
      },
      "source": [
        "class Solution:\r\n",
        "    def arrangeCoin(num, n):\r\n",
        "        if num < n : return n - 1\r\n",
        "        return arrangeCoin(num-n,n+1)\r\n",
        "    \r\n",
        "    def arrangeCoins(n):\r\n",
        "        return arrangeCoin(n,1)\r\n",
        "    \r\n",
        "\r\n",
        "Solution.arrangeCoins(8)\r\n",
        "            "
      ],
      "execution_count": 8,
      "outputs": [
        {
          "output_type": "error",
          "ename": "NameError",
          "evalue": "ignored",
          "traceback": [
            "\u001b[0;31m---------------------------------------------------------------------------\u001b[0m",
            "\u001b[0;31mNameError\u001b[0m                                 Traceback (most recent call last)",
            "\u001b[0;32m<ipython-input-8-e5e4b043a227>\u001b[0m in \u001b[0;36m<module>\u001b[0;34m()\u001b[0m\n\u001b[1;32m      8\u001b[0m \u001b[0;34m\u001b[0m\u001b[0m\n\u001b[1;32m      9\u001b[0m \u001b[0;34m\u001b[0m\u001b[0m\n\u001b[0;32m---> 10\u001b[0;31m \u001b[0mSolution\u001b[0m\u001b[0;34m.\u001b[0m\u001b[0marrangeCoins\u001b[0m\u001b[0;34m(\u001b[0m\u001b[0;36m8\u001b[0m\u001b[0;34m)\u001b[0m\u001b[0;34m\u001b[0m\u001b[0;34m\u001b[0m\u001b[0m\n\u001b[0m\u001b[1;32m     11\u001b[0m \u001b[0;34m\u001b[0m\u001b[0m\n",
            "\u001b[0;32m<ipython-input-8-e5e4b043a227>\u001b[0m in \u001b[0;36marrangeCoins\u001b[0;34m(n)\u001b[0m\n\u001b[1;32m      5\u001b[0m \u001b[0;34m\u001b[0m\u001b[0m\n\u001b[1;32m      6\u001b[0m     \u001b[0;32mdef\u001b[0m \u001b[0marrangeCoins\u001b[0m\u001b[0;34m(\u001b[0m\u001b[0mn\u001b[0m\u001b[0;34m)\u001b[0m\u001b[0;34m:\u001b[0m\u001b[0;34m\u001b[0m\u001b[0;34m\u001b[0m\u001b[0m\n\u001b[0;32m----> 7\u001b[0;31m         \u001b[0;32mreturn\u001b[0m \u001b[0mself\u001b[0m\u001b[0;34m.\u001b[0m\u001b[0marrangeCoin\u001b[0m\u001b[0;34m(\u001b[0m\u001b[0mn\u001b[0m\u001b[0;34m,\u001b[0m\u001b[0;36m1\u001b[0m\u001b[0;34m)\u001b[0m\u001b[0;34m\u001b[0m\u001b[0;34m\u001b[0m\u001b[0m\n\u001b[0m\u001b[1;32m      8\u001b[0m \u001b[0;34m\u001b[0m\u001b[0m\n\u001b[1;32m      9\u001b[0m \u001b[0;34m\u001b[0m\u001b[0m\n",
            "\u001b[0;31mNameError\u001b[0m: name 'self' is not defined"
          ]
        }
      ]
    },
    {
      "cell_type": "markdown",
      "metadata": {
        "id": "YWFPvEve5zsu"
      },
      "source": [
        ""
      ]
    }
  ]
}