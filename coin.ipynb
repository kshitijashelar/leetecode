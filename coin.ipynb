{
  "nbformat": 4,
  "nbformat_minor": 0,
  "metadata": {
    "colab": {
      "name": "Untitled2.ipynb",
      "provenance": [],
      "collapsed_sections": []
    },
    "kernelspec": {
      "name": "python3",
      "display_name": "Python 3"
    }
  },
  "cells": [
    {
      "cell_type": "markdown",
      "metadata": {
        "id": "Ip4GJyrk50j_"
      },
      "source": [
        "You have a total of n coins that you want to form in a staircase shape, where every k-th row must have exactly k coins.\r\n",
        "\r\n",
        "Given n, find the total number of full staircase rows that can be formed.\r\n",
        "\r\n",
        "n is a non-negative integer and fits within the range of a 32-bit signed integer.\r\n",
        "\r\n",
        "Example 1:\r\n",
        "\r\n",
        "n = 5\r\n",
        "\r\n",
        "The coins can form the following rows:\r\n",
        "¤\r\n",
        "¤ ¤\r\n",
        "¤ ¤\r\n",
        "\r\n",
        "Because the 3rd row is incomplete, we return 2.\r\n",
        "Example 2:\r\n",
        "\r\n",
        "n = 8\r\n",
        "\r\n",
        "The coins can form the following rows:\r\n",
        "¤\r\n",
        "¤ ¤\r\n",
        "¤ ¤ ¤\r\n",
        "¤ ¤\r\n",
        "\r\n",
        "Because the 4th row is incomplete, we return 3.\r\n"
      ]
    },
    {
      "cell_type": "code",
      "metadata": {
        "id": "VxQV8aNx5yzW"
      },
      "source": [
        "class Solution:\r\n",
        "    def arrangeCoin(self, num, n):\r\n",
        "        if num < n : return n - 1\r\n",
        "        return self.arrangeCoin( num-n,n+1)\r\n",
        "    \r\n",
        "    def arrangeCoins(self, n):\r\n",
        "        return self.arrangeCoin( n,1)\r\n",
        "\r\n",
        "s = Solution()\r\n",
        "print(s.arrangeCoins(8))\r\n",
        "            "
      ],
      "execution_count": null,
      "outputs": []
    },
    {
      "cell_type": "markdown",
      "metadata": {
        "id": "YWFPvEve5zsu"
      },
      "source": [
        ""
      ]
    }
  ]
}